{
 "cells": [
  {
   "cell_type": "code",
   "execution_count": null,
   "id": "c15b58a1",
   "metadata": {},
   "outputs": [],
   "source": [
    "# pip install uv\n",
    "\n",
    "# uv init --> from root\n",
    "\n",
    "# uv venv --> create a environment ( uv python install 3.12 , if any specific python version is required )\n",
    "\n",
    "# uv add -r requirements.txt ( to install the requirements )\n",
    "\n",
    "# uv add ipykernal ( install a package )\n",
    "\n",
    "# uv pip list ( to list the packages )\n",
    "\n",
    "# to recreate the enviroment again require uv.lock and project.toml files\n",
    "# uv venv -- create the new environment \n",
    "# activate the created environment\n",
    "# uv sync  -- to install the packages in project.toml to the newly created environment"
   ]
  },
  {
   "cell_type": "code",
   "execution_count": null,
   "metadata": {},
   "outputs": [],
   "source": [
    "# uv add mlflow\n",
    "# mlflow ui  -- to see the mlflow ui\n",
    "\n",
    "# mlartifacts  -- is a folder created to store only the mlflow artifacts\n",
    "# if the folder related to a run under an experiment is deleted then the run will not be visible in the mlflow ui\n",
    "# but if and run is deleted from the mlflow ui the folder will still be present in the mlartifacts/mlruns folder"
   ]
  },
  {
   "cell_type": "code",
   "execution_count": null,
   "metadata": {},
   "outputs": [],
   "source": [
    "# ML Model lifecycle\n",
    "# 1.Data gathering \n",
    "# 2.Data understanding ( EDA )\n",
    "# 3.Data preprocessing ( outliers, null value treatment, imbalance handling )\n",
    "# 4.feature selection or feature enineering(feature creation)\n",
    "# 5.Model development ( trying multiple models ) - cross validation, hyperparameter tuning\n",
    "# 6.Model evalution ( checking the metrics like accuracy, precision, )\n",
    "# 7.step 3 to step 6 continues untill the desired results are met\n",
    "# When once the desired "
   ]
  },
  {
   "cell_type": "code",
   "execution_count": null,
   "metadata": {},
   "outputs": [],
   "source": [
    "# Can be logged using mlflow:\n",
    "# 1. Parameters\n",
    "# 2. Metrics\n",
    "# 3. Artifacts ( model file, images, any other files )\n",
    "# 4. Model ( model file which can be used for prediction )\n",
    "# 5. Tags ( any other information which can be logged )\n",
    "# 6. Source ( code version which can be used to reproduce the results )\n",
    "# 7. Experiment ( to group multiple runs )\n",
    "# 8. Run ( a single execution of the code which can be used to log the above information )\n",
    "# 9. Model registry ( to manage the models like stage transition, versioning, etc\n",
    "# 10. Projects ( to package the code in a reusable and reproducible way )\n",
    "# 11. Deployment ( to deploy the model to production )\n",
    "# 12. Tracking ( to track the experiments, runs, and models )\n",
    "# 13. Collaboration ( to share the experiments, runs, and models with team members )\n",
    "# 14. Integration ( to integrate with other tools like airflow, kubeflow, etc )\n",
    "# 15. Automation ( to automate the mlflow tasks using mlflow cli or mlflow api )"
   ]
  },
  {
   "cell_type": "code",
   "execution_count": null,
   "id": "d0fe8971",
   "metadata": {},
   "outputs": [],
   "source": []
  },
  {
   "cell_type": "code",
   "execution_count": null,
   "metadata": {},
   "outputs": [],
   "source": []
  },
  {
   "cell_type": "code",
   "execution_count": null,
   "metadata": {},
   "outputs": [],
   "source": []
  },
  {
   "cell_type": "code",
   "execution_count": null,
   "metadata": {},
   "outputs": [],
   "source": []
  },
  {
   "cell_type": "code",
   "execution_count": null,
   "metadata": {},
   "outputs": [],
   "source": []
  },
  {
   "cell_type": "code",
   "execution_count": null,
   "metadata": {},
   "outputs": [],
   "source": []
  }
 ],
 "metadata": {
  "kernelspec": {
   "display_name": "MLOps_day6_mlflow",
   "language": "python",
   "name": "python3"
  },
  "language_info": {
   "name": "python",
   "version": "3.12.1"
  }
 },
 "nbformat": 4,
 "nbformat_minor": 5
}
